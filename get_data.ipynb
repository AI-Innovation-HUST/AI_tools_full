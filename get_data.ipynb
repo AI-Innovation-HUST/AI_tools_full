{
 "cells": [
  {
   "cell_type": "code",
   "execution_count": 1,
   "metadata": {},
   "outputs": [
    {
     "name": "stdout",
     "output_type": "stream",
     "text": [
      "2024-05-31 22:20:00\n"
     ]
    }
   ],
   "source": [
    "import okx.MarketData as MarketData\n",
    "import csv\n",
    "import json\n",
    "from ultils import *\n",
    "import pandas as pd\n",
    "import ta\n",
    "import time"
   ]
  },
  {
   "cell_type": "code",
   "execution_count": 2,
   "metadata": {},
   "outputs": [],
   "source": [
    "flag = \"0\"  # Production trading:0 , demo trading:1\n",
    "marketDataAPI =  MarketData.MarketAPI(flag=flag)"
   ]
  },
  {
   "cell_type": "markdown",
   "metadata": {},
   "source": [
    "### input of API is here"
   ]
  },
  {
   "cell_type": "code",
   "execution_count": 31,
   "metadata": {},
   "outputs": [],
   "source": [
    "# From date and to date\n",
    "before = \"2024-06-01 00:00:00.0\" # from\n",
    "after = \"2024-06-15 00:00:00.0\" # to \n",
    "id = \"BTC-USDT\" # kind of coin\n",
    "bar = '2H' # kind of bar 1m, 3m, 5m, 15m, 30m, 1H, 2H, 4H\n"
   ]
  },
  {
   "cell_type": "code",
   "execution_count": 32,
   "metadata": {},
   "outputs": [],
   "source": [
    "# Convert bar to timestamp\n",
    "def convert_bar_to_timestamp(bar):\n",
    "    bar_to_timestamp = {\n",
    "        '1m': 1,\n",
    "        '3m': 3,\n",
    "        '5m': 5,\n",
    "        '15m': 15,\n",
    "        '30m': 30,\n",
    "        '1H': 60,\n",
    "        '2H': 120,\n",
    "        '4H': 240\n",
    "    }\n",
    "    \n",
    "    return bar_to_timestamp.get(bar, \"Invalid bar\")\n",
    "\n",
    "\n",
    "timestamp = convert_bar_to_timestamp(bar)\n",
    "\n",
    "# save the file name\n",
    "before_name = before\n",
    "after_name = after"
   ]
  },
  {
   "cell_type": "code",
   "execution_count": 33,
   "metadata": {},
   "outputs": [],
   "source": [
    "# Convert to miliseconds\n",
    "before = datetime_to_ms(before)\n",
    "after = datetime_to_ms(after)\n",
    "end = after\n",
    "\n",
    "# Retrieve history candlestick charts from recent years\n",
    "def get_candlesticks(instId, start_ms, end_ms, bar):\n",
    "    try:\n",
    "        result = marketDataAPI.get_history_candlesticks(\n",
    "            instId=instId,\n",
    "            after=(start_ms),\n",
    "            before=(end_ms),\n",
    "            bar=bar,\n",
    "        )\n",
    "        return result\n",
    "    except Exception as e:\n",
    "        print(f\"Error: {e}\")\n",
    "        return None\n"
   ]
  },
  {
   "cell_type": "markdown",
   "metadata": {},
   "source": [
    "### run API and save to .json"
   ]
  },
  {
   "cell_type": "code",
   "execution_count": 34,
   "metadata": {},
   "outputs": [
    {
     "name": "stdout",
     "output_type": "stream",
     "text": [
      "header:  {'Content-Type': 'application/json', 'x-simulated-trading': '0'}\n",
      "domain: https://www.okx.com\n",
      "url: /api/v5/market/history-candles?instId=BTC-USDT&after=1718384400000&before=1717174800000&bar=2H\n",
      "header:  {'Content-Type': 'application/json', 'x-simulated-trading': '0'}\n",
      "domain: https://www.okx.com\n",
      "url: /api/v5/market/history-candles?instId=BTC-USDT&after=1717664400000&before=1717174800000&bar=2H\n"
     ]
    }
   ],
   "source": [
    "# Get history candlesticks\n",
    "# Schedule to run the script every 10 times per second\n",
    "result_all = []\n",
    "while after - before >= 5940000*timestamp:\n",
    "    result = get_candlesticks(id, after, before, bar)\n",
    "    result_all.append(result)\n",
    "    after = after - 5940000*timestamp - 60000*timestamp\n",
    "    time.sleep(1/20)\n",
    "\n",
    "result = get_candlesticks(id, after, before, bar)\n",
    "result_all.append(result)\n",
    "\n"
   ]
  },
  {
   "cell_type": "code",
   "execution_count": 35,
   "metadata": {},
   "outputs": [],
   "source": [
    "# Convert data to DataFrame\n",
    "rows = []\n",
    "try:\n",
    "    for item in result_all:\n",
    "        for entry in item['data']:\n",
    "            row = {\n",
    "                'ts': entry[0],\n",
    "                'o': entry[1],\n",
    "                'h': entry[2],\n",
    "                'l': entry[3],\n",
    "                'c': entry[4],\n",
    "                'vol': entry[5],\n",
    "                'volCcy': entry[6],\n",
    "                'volCcyQuote': entry[7],\n",
    "                'confirm': entry[8]\n",
    "            }\n",
    "            rows.append(row)\n",
    "\n",
    "    df = pd.DataFrame(rows)\n",
    "    # df['ts'] = pd.to_datetime(df['ts'].astype('int64'), unit='ms')\n",
    "    df[['o', 'h', 'l', 'c', 'vol', 'volCcy', 'volCcyQuote']] = df[['o', 'h', 'l', 'c', 'vol', 'volCcy', 'volCcyQuote']].astype('float64')\n",
    "except Exception as e:\n",
    "    print(f\"Error: {e}\")"
   ]
  },
  {
   "cell_type": "code",
   "execution_count": 36,
   "metadata": {},
   "outputs": [],
   "source": [
    "# df_indi = ta.add_all_ta_features(df, \"o\", \"h\", \"l\", \"c\", \"vol\", fillna=True)\n",
    "# df_indi.dropna(inplace=True)"
   ]
  },
  {
   "cell_type": "code",
   "execution_count": 37,
   "metadata": {},
   "outputs": [],
   "source": [
    "filename = f\"Dataset_infer/{id}_{bar}_{before_name.replace(' ', '_').replace(':', '-')}_{after_name.replace(' ', '_').replace(':', '-')}.csv\"\n",
    "df.to_csv(filename,index=False)"
   ]
  },
  {
   "cell_type": "code",
   "execution_count": null,
   "metadata": {},
   "outputs": [],
   "source": []
  }
 ],
 "metadata": {
  "kernelspec": {
   "display_name": "Python 3",
   "language": "python",
   "name": "python3"
  },
  "language_info": {
   "codemirror_mode": {
    "name": "ipython",
    "version": 3
   },
   "file_extension": ".py",
   "mimetype": "text/x-python",
   "name": "python",
   "nbconvert_exporter": "python",
   "pygments_lexer": "ipython3",
   "version": "3.9.19"
  }
 },
 "nbformat": 4,
 "nbformat_minor": 2
}
